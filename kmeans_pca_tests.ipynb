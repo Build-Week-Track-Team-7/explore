{
 "cells": [
  {
   "cell_type": "code",
   "execution_count": null,
   "metadata": {},
   "outputs": [],
   "source": [
    "import pandas as pd\n",
    "import matplotlib.pyplot as plt\n",
    "import numpy as np\n",
    "import plotly as py\n",
    "import plotly.express as px\n",
    "import seaborn as sns\n",
    "from pca import pca\n",
    "from sklearn.decomposition import PCA\n",
    "from sklearn.cluster import KMeans\n",
    "from sklearn.preprocessing import StandardScaler\n",
    "from joblib import dump"
   ]
  },
  {
   "cell_type": "code",
   "execution_count": null,
   "metadata": {},
   "outputs": [],
   "source": [
    "#importing the csv file to create models.\n",
    "music_df = pd.read_csv('data.csv',index_col=['name'])\n",
    "#droping columns that will just muddy up the data\n",
    "music_df = music_df.drop(columns=['artists', 'release_date', 'id'])\n",
    "#taking a look at the final dataframe before applying kmeans and pca\n",
    "music_df.head()"
   ]
  },
  {
   "cell_type": "code",
   "execution_count": null,
   "metadata": {},
   "outputs": [],
   "source": [
    "#scalling the information to find the best fit\n",
    "music_scale = pd.DataFrame(data=StandardScaler().fit_transform(music_df), columns=music_df.columns, index=music_df.index)\n",
    "music_scale.head()"
   ]
  },
  {
   "cell_type": "code",
   "execution_count": null,
   "metadata": {},
   "outputs": [],
   "source": [
    "# creating cluster defenition to call back when running kmeans\n",
    "kmeans=KMeans(n_clusters=10, random_state=42)\n",
    "kmeans.fit(music_scale.values)\n",
    "#find the centers of the Kmeans data\n",
    "centers = kmeans.cluster_centers_\n",
    "#prepare the lables of Kmeans for graphing\n",
    "labels=kmeans.labels_\n",
    "labels"
   ]
  },
  {
   "cell_type": "code",
   "execution_count": null,
   "metadata": {},
   "outputs": [],
   "source": [
    "def elbow_plot(df, num_clusters_test=10):\n",
    "  \"\"\"Create an elbow plot of KMeans Clustering data.\"\"\"\n",
    "  label_predictions = []\n",
    "  for num in range(1, num_clusters_test+1):\n",
    "    model = KMeans(num)\n",
    "    model.fit(df)\n",
    "    label_predictions.append(model.inertia_)\n",
    "    print(num)\n",
    "  plt.title('Cluster Variance')\n",
    "  plt.xlabel('Number of Clusters')\n",
    "  plt.ylabel('Sum of Squared Distances')\n",
    "  plt.plot(range(1, num_clusters_test+1), label_predictions, 'rx-')\n",
    "  plt.show()"
   ]
  },
  {
   "cell_type": "code",
   "execution_count": null,
   "metadata": {},
   "outputs": [],
   "source": [
    "elbow_plot(music_scale, 20)"
   ]
  },
  {
   "cell_type": "markdown",
   "metadata": {},
   "source": [
    "### Kmeans 3d scater plots"
   ]
  },
  {
   "cell_type": "code",
   "execution_count": null,
   "metadata": {},
   "outputs": [],
   "source": [
    "music_scale.columns"
   ]
  },
  {
   "cell_type": "code",
   "execution_count": null,
   "metadata": {},
   "outputs": [],
   "source": [
    "#adding lables to color code each group type\n",
    "music_df['group']=labels.astype(str)\n",
    "#sampling the dataset to make a more managable graph\n",
    "music_sample = music_df.sample(5000, random_state=42)\n",
    "#color dictionary\n",
    "colors={'0':'crimson',\n",
    "        '1':'#4da6ff',\n",
    "        '2':'#ff66cc',\n",
    "        '3':'#993366',\n",
    "        '4':'#ffff66',\n",
    "        '5':'#99ff33',\n",
    "        '6':'#009933',\n",
    "        '7':'#00ffff',\n",
    "        '8':'#cc3300',\n",
    "        '9':'#cc33ff'\n",
    "       }\n",
    "#graphing the Kmeans test\n",
    "fig = px.scatter_3d(music_sample,\n",
    "                    x='energy', # the first important feature\n",
    "                    y='danceability', # the second important feature\n",
    "                    z='liveness', # the third important feature\n",
    "                    color='group', # calling the K-means group labels column for apllying color to the different data points\n",
    "                    color_discrete_map=colors, # using the color dictionary previously created to apply colors \n",
    "                    width=700,\n",
    "                    height=500,\n",
    "                    hover_name=music_sample.index) # make each dot show teh name of the song when someone hovers over the dot\n",
    "fig.update_traces(marker = dict(size=1), #changing the dot size to be something more reasonable and easier to see\n",
    "                  showlegend=False) #removing the ledgend that is nodiscriptive and serves no puropse\n",
    "fig.show()"
   ]
  },
  {
   "cell_type": "code",
   "execution_count": null,
   "metadata": {},
   "outputs": [],
   "source": [
    "# Set a custom color palette to match with plotly graph\n",
    "sncolors=('crimson',\n",
    "          '#4da6ff',\n",
    "          '#ff66cc',\n",
    "          '#993366',\n",
    "          '#ffff66',\n",
    "          '#99ff33',\n",
    "          '#009933',\n",
    "          '#00ffff',\n",
    "          '#cc3300',\n",
    "          '#cc33ff')\n",
    "customPalette = sns.set_palette(sns.color_palette(sncolors))\n",
    "\n",
    "sns.pairplot(music_sample,\n",
    "             hue='group',\n",
    "             vars=(['acousticness',\n",
    "                    'danceability',\n",
    "                    'energy',\n",
    "                    'instrumentalness',\n",
    "                    'liveness',\n",
    "                    'loudness',\n",
    "                    'popularity',\n",
    "                    'speechiness',\n",
    "                    'tempo',\n",
    "                    'valence',\n",
    "                    'year']),\n",
    "             palette=customPalette,\n",
    "             corner=True)\n",
    "plt.savefig('kmeans_pairplots.png')\n",
    "plt.show()"
   ]
  },
  {
   "cell_type": "markdown",
   "metadata": {},
   "source": [
    "### PCA analysis"
   ]
  },
  {
   "cell_type": "code",
   "execution_count": null,
   "metadata": {},
   "outputs": [],
   "source": [
    "def scree_plot(pca):\n",
    "  num_length=len(pca.explained_variance_ratio_) #define how many components out\n",
    "  ind = np.arange(num_length) #taging the spot of each value to assign the component to\n",
    "  vals= pca.explained_variance_ratio_ #the total variance of the pca\n",
    "\n",
    "  plt.figure(figsize=(18,6))\n",
    "  ax = plt.subplot(111)\n",
    "  cumval = np.cumsum(vals) #add up all the variance of the proceeding pcas till that point\n",
    "  ax.bar(ind,vals)\n",
    "  ax.plot(ind, cumval)\n",
    "  for i in range(num_length):\n",
    "    ax.annotate(r'%s' % ((str(vals[i]*100)[:3])), (ind[i], vals[i]), va='bottom',ha='center',fontsize=7)\n",
    "\n",
    "  ax.xaxis.set_tick_params(width=0)\n",
    "  ax.yaxis.set_tick_params(width=2, length=12)\n",
    "  plt.xlim(0,10)\n",
    " \n",
    "  ax.set_xlabel(\"Principal Component\")\n",
    "  ax.set_ylabel(\"Variance Explained (%)\")\n",
    "  plt.title('Explained Variance Per Principal Component')"
   ]
  },
  {
   "cell_type": "code",
   "execution_count": null,
   "metadata": {},
   "outputs": [],
   "source": [
    "mod1=PCA(.9)"
   ]
  },
  {
   "cell_type": "code",
   "execution_count": null,
   "metadata": {},
   "outputs": [],
   "source": [
    "pca_fit= mod1.fit_transform(music_scale)"
   ]
  },
  {
   "cell_type": "code",
   "execution_count": null,
   "metadata": {},
   "outputs": [],
   "source": [
    "scree_plot(mod1)"
   ]
  },
  {
   "cell_type": "markdown",
   "metadata": {},
   "source": [
    "### second pca method to determin most important features"
   ]
  },
  {
   "cell_type": "code",
   "execution_count": null,
   "metadata": {},
   "outputs": [],
   "source": [
    "mod2=pca(.9)"
   ]
  },
  {
   "cell_type": "code",
   "execution_count": null,
   "metadata": {},
   "outputs": [],
   "source": [
    "pca_fit2= mod2.fit_transform(music_scale)"
   ]
  },
  {
   "cell_type": "code",
   "execution_count": null,
   "metadata": {},
   "outputs": [],
   "source": [
    "mod2.plot()"
   ]
  },
  {
   "cell_type": "code",
   "execution_count": null,
   "metadata": {},
   "outputs": [],
   "source": [
    "pca_fit2['topfeat']['feature'].to_list()"
   ]
  },
  {
   "cell_type": "code",
   "execution_count": null,
   "metadata": {},
   "outputs": [],
   "source": [
    "\n",
    "# pipeline = model\n",
    "# dump(pipeline, 'pipeline.joblib', compress=True) "
   ]
  }
 ],
 "metadata": {
  "kernelspec": {
   "display_name": "Python 3",
   "language": "python",
   "name": "python3"
  },
  "language_info": {
   "codemirror_mode": {
    "name": "ipython",
    "version": 3
   },
   "file_extension": ".py",
   "mimetype": "text/x-python",
   "name": "python",
   "nbconvert_exporter": "python",
   "pygments_lexer": "ipython3",
   "version": "3.8.5"
  }
 },
 "nbformat": 4,
 "nbformat_minor": 4
}
